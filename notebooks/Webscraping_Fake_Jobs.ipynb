{
 "cells": [
  {
   "cell_type": "code",
   "execution_count": 1,
   "id": "3d6a8adc-fdf9-477a-8631-11f6212023f6",
   "metadata": {},
   "outputs": [],
   "source": [
    "from bs4 import BeautifulSoup\n",
    "import requests\n",
    "import pandas as pd\n",
    "import re"
   ]
  },
  {
   "cell_type": "markdown",
   "id": "c37be4d0-fb9e-4066-b75f-78dbf5187896",
   "metadata": {},
   "source": [
    "1. Start by performing a GET request on the url above and convert the response into a BeautifulSoup object."
   ]
  },
  {
   "cell_type": "code",
   "execution_count": 3,
   "id": "d77a5244-c1f9-4b52-99fc-9392f71711fe",
   "metadata": {},
   "outputs": [],
   "source": [
    "URL = 'https://realpython.github.io/fake-jobs/'\n",
    "\n",
    "response = requests.get(URL)\n",
    "\n",
    "soup = BeautifulSoup(response.text, features=\"html.parser\")"
   ]
  },
  {
   "cell_type": "markdown",
   "id": "21651e75-f388-4df3-9570-b4277290c078",
   "metadata": {},
   "source": [
    "a. Use the .find method to find the tag containing the first job title (\"Senior Python Developer\"). Hint: can you find a tag type and/or a class that could be helpful for extracting this information? Extract the text from this title."
   ]
  },
  {
   "cell_type": "code",
   "execution_count": 5,
   "id": "23bfb10c-3894-4b0c-ab7c-178a6c320c70",
   "metadata": {},
   "outputs": [],
   "source": [
    "first_job_title = soup.find('h2').text"
   ]
  },
  {
   "cell_type": "markdown",
   "id": "200e169d-1322-4fe7-a8d0-24e1cf62b989",
   "metadata": {},
   "source": [
    "b. Now, use what you did for the first title, but extract the job title for all jobs on this page. Store the results in a list."
   ]
  },
  {
   "cell_type": "code",
   "execution_count": 7,
   "id": "0fa4656f-a8aa-4bc8-888d-dc2cd4414e86",
   "metadata": {},
   "outputs": [],
   "source": [
    "all_job_titles = soup.findAll('h2')\n",
    "all_job_title_list = [jobs.get_text() for jobs in all_job_titles]"
   ]
  },
  {
   "cell_type": "markdown",
   "id": "f010fc52-252c-42cb-aa72-e8904f02aa77",
   "metadata": {},
   "source": [
    "c. Finally, extract the companies, locations, and posting dates for each job. For example, the first job has a company of \"Payne, Roberts and Davis\", a location of \"Stewartbury, AA\", and a posting date of \"2021-04-08\". Ensure that the text that you extract is clean, meaning no extra spaces or other characters at the beginning or end. Make a df at the end. "
   ]
  },
  {
   "cell_type": "markdown",
   "id": "00c8010f-6796-48a1-8c00-288edd068fe3",
   "metadata": {},
   "source": [
    "d. Take the lists that you have created and combine them into a pandas DataFrame."
   ]
  },
  {
   "cell_type": "code",
   "execution_count": 10,
   "id": "c7c18e07-8083-460a-8141-9fe8baaa3766",
   "metadata": {},
   "outputs": [],
   "source": [
    "title_list = [tag.text for tag in soup.findAll('h2')]\n",
    "company_list = [tag.text for tag in soup.findAll('h3')]\n",
    "time_list = [tag.text for tag in soup.findAll('time')]\n",
    "location_list = [tag.text.strip() for tag in soup.findAll('p', attrs={'class': 'location'})]\n",
    "\n",
    "Python_Fake_Jobs_df = pd.DataFrame({\n",
    "    'Title': title_list,\n",
    "    'Company': company_list,\n",
    "    'Location': location_list,\n",
    "    'Time': time_list\n",
    "})"
   ]
  },
  {
   "cell_type": "markdown",
   "id": "235b0cbc-3bbd-4cf1-8c29-d9542c5518a2",
   "metadata": {},
   "source": [
    "2. Next, add a column that contains the url for the \"Apply\" button. Try this in two ways.\n",
    "    a. First, use the BeautifulSoup find_all method to extract the urls. "
   ]
  },
  {
   "cell_type": "code",
   "execution_count": 53,
   "id": "d280c72c-05c3-4e35-979f-d848fe7db30b",
   "metadata": {},
   "outputs": [
    {
     "name": "stdout",
     "output_type": "stream",
     "text": [
      "https://realpython.github.io/fake-jobs/jobs/senior-python-developer-0.html\n",
      "https://realpython.github.io/fake-jobs/jobs/energy-engineer-1.html\n",
      "https://realpython.github.io/fake-jobs/jobs/legal-executive-2.html\n",
      "https://realpython.github.io/fake-jobs/jobs/fitness-centre-manager-3.html\n",
      "https://realpython.github.io/fake-jobs/jobs/product-manager-4.html\n",
      "https://realpython.github.io/fake-jobs/jobs/medical-technical-officer-5.html\n",
      "https://realpython.github.io/fake-jobs/jobs/physiological-scientist-6.html\n",
      "https://realpython.github.io/fake-jobs/jobs/textile-designer-7.html\n",
      "https://realpython.github.io/fake-jobs/jobs/television-floor-manager-8.html\n",
      "https://realpython.github.io/fake-jobs/jobs/waste-management-officer-9.html\n",
      "https://realpython.github.io/fake-jobs/jobs/software-engineer-python-10.html\n",
      "https://realpython.github.io/fake-jobs/jobs/interpreter-11.html\n",
      "https://realpython.github.io/fake-jobs/jobs/architect-12.html\n",
      "https://realpython.github.io/fake-jobs/jobs/meteorologist-13.html\n",
      "https://realpython.github.io/fake-jobs/jobs/audiological-scientist-14.html\n",
      "https://realpython.github.io/fake-jobs/jobs/english-as-a-second-language-teacher-15.html\n",
      "https://realpython.github.io/fake-jobs/jobs/surgeon-16.html\n",
      "https://realpython.github.io/fake-jobs/jobs/equities-trader-17.html\n",
      "https://realpython.github.io/fake-jobs/jobs/newspaper-journalist-18.html\n",
      "https://realpython.github.io/fake-jobs/jobs/materials-engineer-19.html\n",
      "https://realpython.github.io/fake-jobs/jobs/python-programmer-entry-level-20.html\n",
      "https://realpython.github.io/fake-jobs/jobs/product-process-development-scientist-21.html\n",
      "https://realpython.github.io/fake-jobs/jobs/scientist-research-maths-22.html\n",
      "https://realpython.github.io/fake-jobs/jobs/ecologist-23.html\n",
      "https://realpython.github.io/fake-jobs/jobs/materials-engineer-24.html\n",
      "https://realpython.github.io/fake-jobs/jobs/historic-buildings-inspector-conservation-officer-25.html\n",
      "https://realpython.github.io/fake-jobs/jobs/data-scientist-26.html\n",
      "https://realpython.github.io/fake-jobs/jobs/psychiatrist-27.html\n",
      "https://realpython.github.io/fake-jobs/jobs/structural-engineer-28.html\n",
      "https://realpython.github.io/fake-jobs/jobs/immigration-officer-29.html\n",
      "https://realpython.github.io/fake-jobs/jobs/python-programmer-entry-level-30.html\n",
      "https://realpython.github.io/fake-jobs/jobs/neurosurgeon-31.html\n",
      "https://realpython.github.io/fake-jobs/jobs/broadcast-engineer-32.html\n",
      "https://realpython.github.io/fake-jobs/jobs/make-33.html\n",
      "https://realpython.github.io/fake-jobs/jobs/nurse-adult-34.html\n",
      "https://realpython.github.io/fake-jobs/jobs/air-broker-35.html\n",
      "https://realpython.github.io/fake-jobs/jobs/editor-film-video-36.html\n",
      "https://realpython.github.io/fake-jobs/jobs/production-assistant-radio-37.html\n",
      "https://realpython.github.io/fake-jobs/jobs/engineer-communications-38.html\n",
      "https://realpython.github.io/fake-jobs/jobs/sales-executive-39.html\n",
      "https://realpython.github.io/fake-jobs/jobs/software-developer-python-40.html\n",
      "https://realpython.github.io/fake-jobs/jobs/futures-trader-41.html\n",
      "https://realpython.github.io/fake-jobs/jobs/tour-manager-42.html\n",
      "https://realpython.github.io/fake-jobs/jobs/cytogeneticist-43.html\n",
      "https://realpython.github.io/fake-jobs/jobs/designer-multimedia-44.html\n",
      "https://realpython.github.io/fake-jobs/jobs/trade-union-research-officer-45.html\n",
      "https://realpython.github.io/fake-jobs/jobs/chemist-analytical-46.html\n",
      "https://realpython.github.io/fake-jobs/jobs/programmer-multimedia-47.html\n",
      "https://realpython.github.io/fake-jobs/jobs/engineer-broadcasting-operations-48.html\n",
      "https://realpython.github.io/fake-jobs/jobs/teacher-primary-school-49.html\n",
      "https://realpython.github.io/fake-jobs/jobs/python-developer-50.html\n",
      "https://realpython.github.io/fake-jobs/jobs/manufacturing-systems-engineer-51.html\n",
      "https://realpython.github.io/fake-jobs/jobs/producer-television-film-video-52.html\n",
      "https://realpython.github.io/fake-jobs/jobs/scientist-forensic-53.html\n",
      "https://realpython.github.io/fake-jobs/jobs/bonds-trader-54.html\n",
      "https://realpython.github.io/fake-jobs/jobs/editorial-assistant-55.html\n",
      "https://realpython.github.io/fake-jobs/jobs/photographer-56.html\n",
      "https://realpython.github.io/fake-jobs/jobs/retail-banker-57.html\n",
      "https://realpython.github.io/fake-jobs/jobs/jewellery-designer-58.html\n",
      "https://realpython.github.io/fake-jobs/jobs/ophthalmologist-59.html\n",
      "https://realpython.github.io/fake-jobs/jobs/back-end-web-developer-python-django-60.html\n",
      "https://realpython.github.io/fake-jobs/jobs/licensed-conveyancer-61.html\n",
      "https://realpython.github.io/fake-jobs/jobs/futures-trader-62.html\n",
      "https://realpython.github.io/fake-jobs/jobs/counselling-psychologist-63.html\n",
      "https://realpython.github.io/fake-jobs/jobs/insurance-underwriter-64.html\n",
      "https://realpython.github.io/fake-jobs/jobs/engineer-automotive-65.html\n",
      "https://realpython.github.io/fake-jobs/jobs/producer-radio-66.html\n",
      "https://realpython.github.io/fake-jobs/jobs/dispensing-optician-67.html\n",
      "https://realpython.github.io/fake-jobs/jobs/designer-fashion-clothing-68.html\n",
      "https://realpython.github.io/fake-jobs/jobs/chartered-loss-adjuster-69.html\n",
      "https://realpython.github.io/fake-jobs/jobs/back-end-web-developer-python-django-70.html\n",
      "https://realpython.github.io/fake-jobs/jobs/forest-woodland-manager-71.html\n",
      "https://realpython.github.io/fake-jobs/jobs/clinical-cytogeneticist-72.html\n",
      "https://realpython.github.io/fake-jobs/jobs/print-production-planner-73.html\n",
      "https://realpython.github.io/fake-jobs/jobs/systems-developer-74.html\n",
      "https://realpython.github.io/fake-jobs/jobs/graphic-designer-75.html\n",
      "https://realpython.github.io/fake-jobs/jobs/writer-76.html\n",
      "https://realpython.github.io/fake-jobs/jobs/field-seismologist-77.html\n",
      "https://realpython.github.io/fake-jobs/jobs/chief-strategy-officer-78.html\n",
      "https://realpython.github.io/fake-jobs/jobs/air-cabin-crew-79.html\n",
      "https://realpython.github.io/fake-jobs/jobs/python-programmer-entry-level-80.html\n",
      "https://realpython.github.io/fake-jobs/jobs/warden-ranger-81.html\n",
      "https://realpython.github.io/fake-jobs/jobs/sports-therapist-82.html\n",
      "https://realpython.github.io/fake-jobs/jobs/arts-development-officer-83.html\n",
      "https://realpython.github.io/fake-jobs/jobs/printmaker-84.html\n",
      "https://realpython.github.io/fake-jobs/jobs/health-and-safety-adviser-85.html\n",
      "https://realpython.github.io/fake-jobs/jobs/manufacturing-systems-engineer-86.html\n",
      "https://realpython.github.io/fake-jobs/jobs/programmer-applications-87.html\n",
      "https://realpython.github.io/fake-jobs/jobs/medical-physicist-88.html\n",
      "https://realpython.github.io/fake-jobs/jobs/media-planner-89.html\n",
      "https://realpython.github.io/fake-jobs/jobs/software-developer-python-90.html\n",
      "https://realpython.github.io/fake-jobs/jobs/surveyor-land-geomatics-91.html\n",
      "https://realpython.github.io/fake-jobs/jobs/legal-executive-92.html\n",
      "https://realpython.github.io/fake-jobs/jobs/librarian-academic-93.html\n",
      "https://realpython.github.io/fake-jobs/jobs/barrister-94.html\n",
      "https://realpython.github.io/fake-jobs/jobs/museum-gallery-exhibitions-officer-95.html\n",
      "https://realpython.github.io/fake-jobs/jobs/radiographer-diagnostic-96.html\n",
      "https://realpython.github.io/fake-jobs/jobs/database-administrator-97.html\n",
      "https://realpython.github.io/fake-jobs/jobs/furniture-designer-98.html\n",
      "https://realpython.github.io/fake-jobs/jobs/ship-broker-99.html\n"
     ]
    },
    {
     "ename": "AttributeError",
     "evalue": "'NoneType' object has no attribute 'to_list'",
     "output_type": "error",
     "traceback": [
      "\u001b[0;31m---------------------------------------------------------------------------\u001b[0m",
      "\u001b[0;31mAttributeError\u001b[0m                            Traceback (most recent call last)",
      "Cell \u001b[0;32mIn[53], line 7\u001b[0m\n\u001b[1;32m      5\u001b[0m \u001b[38;5;28;01mfor\u001b[39;00m url \u001b[38;5;129;01min\u001b[39;00m apply_url_links:\n\u001b[1;32m      6\u001b[0m     \u001b[38;5;28mprint\u001b[39m(url[\u001b[38;5;124m'\u001b[39m\u001b[38;5;124mhref\u001b[39m\u001b[38;5;124m'\u001b[39m])\n\u001b[0;32m----> 7\u001b[0m apply_button_column\u001b[38;5;241m.\u001b[39mappend(apply_button_column)\u001b[38;5;241m.\u001b[39mto_list()\n\u001b[1;32m      8\u001b[0m Python_Fake_Jobs_df[\u001b[38;5;124m'\u001b[39m\u001b[38;5;124mApply Button\u001b[39m\u001b[38;5;124m'\u001b[39m] \u001b[38;5;241m=\u001b[39m apply_button_column\n\u001b[1;32m     10\u001b[0m Python_Fake_Jobs_df\n",
      "\u001b[0;31mAttributeError\u001b[0m: 'NoneType' object has no attribute 'to_list'"
     ]
    }
   ],
   "source": [
    "apply_url_links = soup.findAll('a', string=lambda text:'Apply' in text)\n",
    "\n",
    "apply_button_column = []\n",
    "\n",
    "for url in apply_url_links:\n",
    "    print(url['href'])\n",
    "apply_button_column.append(apply_button_column).to_list()\n",
    "Python_Fake_Jobs_df['Apply Button'] = apply_button_column\n",
    "\n",
    "Python_Fake_Jobs_df"
   ]
  },
  {
   "cell_type": "code",
   "execution_count": 55,
   "id": "c98b1d42-ba06-4384-87e9-22c0cf425a43",
   "metadata": {},
   "outputs": [
    {
     "data": {
      "text/html": [
       "<div>\n",
       "<style scoped>\n",
       "    .dataframe tbody tr th:only-of-type {\n",
       "        vertical-align: middle;\n",
       "    }\n",
       "\n",
       "    .dataframe tbody tr th {\n",
       "        vertical-align: top;\n",
       "    }\n",
       "\n",
       "    .dataframe thead th {\n",
       "        text-align: right;\n",
       "    }\n",
       "</style>\n",
       "<table border=\"1\" class=\"dataframe\">\n",
       "  <thead>\n",
       "    <tr style=\"text-align: right;\">\n",
       "      <th></th>\n",
       "      <th>Title</th>\n",
       "      <th>Company</th>\n",
       "      <th>Location</th>\n",
       "      <th>Time</th>\n",
       "    </tr>\n",
       "  </thead>\n",
       "  <tbody>\n",
       "    <tr>\n",
       "      <th>0</th>\n",
       "      <td>Senior Python Developer</td>\n",
       "      <td>Payne, Roberts and Davis</td>\n",
       "      <td>Stewartbury, AA</td>\n",
       "      <td>2021-04-08</td>\n",
       "    </tr>\n",
       "    <tr>\n",
       "      <th>1</th>\n",
       "      <td>Energy engineer</td>\n",
       "      <td>Vasquez-Davidson</td>\n",
       "      <td>Christopherville, AA</td>\n",
       "      <td>2021-04-08</td>\n",
       "    </tr>\n",
       "    <tr>\n",
       "      <th>2</th>\n",
       "      <td>Legal executive</td>\n",
       "      <td>Jackson, Chambers and Levy</td>\n",
       "      <td>Port Ericaburgh, AA</td>\n",
       "      <td>2021-04-08</td>\n",
       "    </tr>\n",
       "    <tr>\n",
       "      <th>3</th>\n",
       "      <td>Fitness centre manager</td>\n",
       "      <td>Savage-Bradley</td>\n",
       "      <td>East Seanview, AP</td>\n",
       "      <td>2021-04-08</td>\n",
       "    </tr>\n",
       "    <tr>\n",
       "      <th>4</th>\n",
       "      <td>Product manager</td>\n",
       "      <td>Ramirez Inc</td>\n",
       "      <td>North Jamieview, AP</td>\n",
       "      <td>2021-04-08</td>\n",
       "    </tr>\n",
       "    <tr>\n",
       "      <th>...</th>\n",
       "      <td>...</td>\n",
       "      <td>...</td>\n",
       "      <td>...</td>\n",
       "      <td>...</td>\n",
       "    </tr>\n",
       "    <tr>\n",
       "      <th>95</th>\n",
       "      <td>Museum/gallery exhibitions officer</td>\n",
       "      <td>Nguyen, Yoder and Petty</td>\n",
       "      <td>Lake Abigail, AE</td>\n",
       "      <td>2021-04-08</td>\n",
       "    </tr>\n",
       "    <tr>\n",
       "      <th>96</th>\n",
       "      <td>Radiographer, diagnostic</td>\n",
       "      <td>Holder LLC</td>\n",
       "      <td>Jacobshire, AP</td>\n",
       "      <td>2021-04-08</td>\n",
       "    </tr>\n",
       "    <tr>\n",
       "      <th>97</th>\n",
       "      <td>Database administrator</td>\n",
       "      <td>Yates-Ferguson</td>\n",
       "      <td>Port Susan, AE</td>\n",
       "      <td>2021-04-08</td>\n",
       "    </tr>\n",
       "    <tr>\n",
       "      <th>98</th>\n",
       "      <td>Furniture designer</td>\n",
       "      <td>Ortega-Lawrence</td>\n",
       "      <td>North Tiffany, AA</td>\n",
       "      <td>2021-04-08</td>\n",
       "    </tr>\n",
       "    <tr>\n",
       "      <th>99</th>\n",
       "      <td>Ship broker</td>\n",
       "      <td>Fuentes, Walls and Castro</td>\n",
       "      <td>Michelleville, AP</td>\n",
       "      <td>2021-04-08</td>\n",
       "    </tr>\n",
       "  </tbody>\n",
       "</table>\n",
       "<p>100 rows × 4 columns</p>\n",
       "</div>"
      ],
      "text/plain": [
       "                                 Title                     Company  \\\n",
       "0              Senior Python Developer    Payne, Roberts and Davis   \n",
       "1                      Energy engineer            Vasquez-Davidson   \n",
       "2                      Legal executive  Jackson, Chambers and Levy   \n",
       "3               Fitness centre manager              Savage-Bradley   \n",
       "4                      Product manager                 Ramirez Inc   \n",
       "..                                 ...                         ...   \n",
       "95  Museum/gallery exhibitions officer     Nguyen, Yoder and Petty   \n",
       "96            Radiographer, diagnostic                  Holder LLC   \n",
       "97              Database administrator              Yates-Ferguson   \n",
       "98                  Furniture designer             Ortega-Lawrence   \n",
       "99                         Ship broker   Fuentes, Walls and Castro   \n",
       "\n",
       "                Location        Time  \n",
       "0        Stewartbury, AA  2021-04-08  \n",
       "1   Christopherville, AA  2021-04-08  \n",
       "2    Port Ericaburgh, AA  2021-04-08  \n",
       "3      East Seanview, AP  2021-04-08  \n",
       "4    North Jamieview, AP  2021-04-08  \n",
       "..                   ...         ...  \n",
       "95      Lake Abigail, AE  2021-04-08  \n",
       "96        Jacobshire, AP  2021-04-08  \n",
       "97        Port Susan, AE  2021-04-08  \n",
       "98     North Tiffany, AA  2021-04-08  \n",
       "99     Michelleville, AP  2021-04-08  \n",
       "\n",
       "[100 rows x 4 columns]"
      ]
     },
     "execution_count": 55,
     "metadata": {},
     "output_type": "execute_result"
    }
   ],
   "source": [
    "Python_Fake_Jobs_df"
   ]
  },
  {
   "cell_type": "markdown",
   "id": "896ee187-ec73-432b-9efd-84c63e34c8e8",
   "metadata": {},
   "source": [
    "b. Next, get those same urls in a different way. Examine the urls and see if you can spot the pattern of how they are constructed. Then, build the url using the elements you have already extracted. Ensure that the urls that you created match those that you extracted using BeautifulSoup. Warning: You will need to do some string cleaning and prep in constructing the urls this way. For example, look carefully at the urls for the \"Software Engineer (Python)\" job and the \"Scientist, research (maths)\" job."
   ]
  },
  {
   "cell_type": "code",
   "execution_count": null,
   "id": "21ceed4e-de88-4fa5-b4a4-132a324049d7",
   "metadata": {},
   "outputs": [],
   "source": []
  },
  {
   "cell_type": "markdown",
   "id": "b2d9db30-94db-4221-a233-d89d83e000c4",
   "metadata": {},
   "source": [
    "3. Next, add a column that contains the url for the \"Apply\" button. Try this in two ways.\n",
    "a. First, use the BeautifulSoup find_all method to extract the urls.\n",
    "b. Next, get those same urls in a different way. Examine the urls and see if you can spot the pattern of how they are constructed. Then, build the url using the elements you have already extracted. Ensure that the urls that you created match those that you extracted using BeautifulSoup. Warning: You will need to do some string cleaning and prep in constructing the urls this way. For example, look carefully at the urls for the \"Software Engineer (Python)\" job and the \"Scientist, research (maths)\" job.\n",
    "\n",
    "Finally, we want to get the job description text for each job.\n",
    "a. Start by looking at the page for the first job, https://realpython.github.io/fake-jobs/jobs/senior-python-developer-0.html. Using BeautifulSoup, extract the job description paragraph.\n",
    "b. We want to be able to do this for all pages. Write a function which takes as input a url and returns the description text on that page. For example, if you input \"https://realpython.github.io/fake-jobs/jobs/television-floor-manager-8.html\" into your function, it should return the string \"At be than always different American address. Former claim chance prevent why measure too. Almost before some military outside baby interview. Face top individual win suddenly. Parent do ten after those scientist. Medical effort assume teacher wall. Significant his himself clearly very. Expert stop area along individual. Three own bank recognize special good along.\".\n",
    "c. Use the .apply method on the url column you created above to retrieve the description text for all of the jobs."
   ]
  }
 ],
 "metadata": {
  "kernelspec": {
   "display_name": "Python 3 (ipykernel)",
   "language": "python",
   "name": "python3"
  },
  "language_info": {
   "codemirror_mode": {
    "name": "ipython",
    "version": 3
   },
   "file_extension": ".py",
   "mimetype": "text/x-python",
   "name": "python",
   "nbconvert_exporter": "python",
   "pygments_lexer": "ipython3",
   "version": "3.12.4"
  }
 },
 "nbformat": 4,
 "nbformat_minor": 5
}
