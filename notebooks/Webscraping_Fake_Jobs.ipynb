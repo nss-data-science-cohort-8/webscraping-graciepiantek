{
 "cells": [
  {
   "cell_type": "code",
   "execution_count": 1,
   "id": "3d6a8adc-fdf9-477a-8631-11f6212023f6",
   "metadata": {},
   "outputs": [],
   "source": [
    "from bs4 import BeautifulSoup\n",
    "import requests"
   ]
  },
  {
   "cell_type": "markdown",
   "id": "c37be4d0-fb9e-4066-b75f-78dbf5187896",
   "metadata": {},
   "source": [
    "1. Start by performing a GET request on the url above and convert the response into a BeautifulSoup object."
   ]
  },
  {
   "cell_type": "code",
   "execution_count": 3,
   "id": "d77a5244-c1f9-4b52-99fc-9392f71711fe",
   "metadata": {},
   "outputs": [],
   "source": [
    "URL = 'https://realpython.github.io/fake-jobs/'\n",
    "\n",
    "response = requests.get(URL)\n",
    "\n",
    "soup = BeautifulSoup(response.text, features=\"html.parser\")"
   ]
  },
  {
   "cell_type": "markdown",
   "id": "21651e75-f388-4df3-9570-b4277290c078",
   "metadata": {},
   "source": [
    "a. Use the .find method to find the tag containing the first job title (\"Senior Python Developer\"). Hint: can you find a tag type and/or a class that could be helpful for extracting this information? Extract the text from this title."
   ]
  },
  {
   "cell_type": "code",
   "execution_count": 5,
   "id": "23bfb10c-3894-4b0c-ab7c-178a6c320c70",
   "metadata": {},
   "outputs": [],
   "source": [
    "first_job_title = soup.find('h2').text"
   ]
  },
  {
   "cell_type": "markdown",
   "id": "200e169d-1322-4fe7-a8d0-24e1cf62b989",
   "metadata": {},
   "source": [
    "b. Now, use what you did for the first title, but extract the job title for all jobs on this page. Store the results in a list."
   ]
  },
  {
   "cell_type": "code",
   "execution_count": 7,
   "id": "0fa4656f-a8aa-4bc8-888d-dc2cd4414e86",
   "metadata": {},
   "outputs": [],
   "source": [
    "all_job_titles = soup.findAll('h2')\n",
    "all_job_title_list = [jobs.get_text() for jobs in all_job_titles]"
   ]
  },
  {
   "cell_type": "markdown",
   "id": "f010fc52-252c-42cb-aa72-e8904f02aa77",
   "metadata": {},
   "source": [
    "c. Finally, extract the companies, locations, and posting dates for each job. For example, the first job has a company of \"Payne, Roberts and Davis\", a location of \"Stewartbury, AA\", and a posting date of \"2021-04-08\". Ensure that the text that you extract is clean, meaning no extra spaces or other characters at the beginning or end. Make a df at the end. "
   ]
  },
  {
   "cell_type": "markdown",
   "id": "00c8010f-6796-48a1-8c00-288edd068fe3",
   "metadata": {},
   "source": [
    "d. Take the lists that you have created and combine them into a pandas DataFrame."
   ]
  },
  {
   "cell_type": "markdown",
   "id": "b2d9db30-94db-4221-a233-d89d83e000c4",
   "metadata": {},
   "source": [
    "Next, add a column that contains the url for the \"Apply\" button. Try this in two ways.\n",
    "a. First, use the BeautifulSoup find_all method to extract the urls.\n",
    "b. Next, get those same urls in a different way. Examine the urls and see if you can spot the pattern of how they are constructed. Then, build the url using the elements you have already extracted. Ensure that the urls that you created match those that you extracted using BeautifulSoup. Warning: You will need to do some string cleaning and prep in constructing the urls this way. For example, look carefully at the urls for the \"Software Engineer (Python)\" job and the \"Scientist, research (maths)\" job.\n",
    "\n",
    "Finally, we want to get the job description text for each job.\n",
    "a. Start by looking at the page for the first job, https://realpython.github.io/fake-jobs/jobs/senior-python-developer-0.html. Using BeautifulSoup, extract the job description paragraph.\n",
    "b. We want to be able to do this for all pages. Write a function which takes as input a url and returns the description text on that page. For example, if you input \"https://realpython.github.io/fake-jobs/jobs/television-floor-manager-8.html\" into your function, it should return the string \"At be than always different American address. Former claim chance prevent why measure too. Almost before some military outside baby interview. Face top individual win suddenly. Parent do ten after those scientist. Medical effort assume teacher wall. Significant his himself clearly very. Expert stop area along individual. Three own bank recognize special good along.\".\n",
    "c. Use the .apply method on the url column you created above to retrieve the description text for all of the jobs."
   ]
  }
 ],
 "metadata": {
  "kernelspec": {
   "display_name": "Python 3 (ipykernel)",
   "language": "python",
   "name": "python3"
  },
  "language_info": {
   "codemirror_mode": {
    "name": "ipython",
    "version": 3
   },
   "file_extension": ".py",
   "mimetype": "text/x-python",
   "name": "python",
   "nbconvert_exporter": "python",
   "pygments_lexer": "ipython3",
   "version": "3.12.4"
  }
 },
 "nbformat": 4,
 "nbformat_minor": 5
}
